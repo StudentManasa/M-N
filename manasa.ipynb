{
 "cells": [
  {
   "cell_type": "code",
   "execution_count": 7,
   "id": "8a8d4586",
   "metadata": {},
   "outputs": [
    {
     "ename": "TypeError",
     "evalue": "unsupported operand type(s) for +: 'int' and 'str'",
     "output_type": "error",
     "traceback": [
      "\u001b[1;31m---------------------------------------------------------------------------\u001b[0m",
      "\u001b[1;31mTypeError\u001b[0m                                 Traceback (most recent call last)",
      "Cell \u001b[1;32mIn[7], line 2\u001b[0m\n\u001b[0;32m      1\u001b[0m employees\u001b[38;5;241m=\u001b[39m[{\u001b[38;5;124m\"\u001b[39m\u001b[38;5;124mname\u001b[39m\u001b[38;5;124m\"\u001b[39m:\u001b[38;5;124m\"\u001b[39m\u001b[38;5;124mjohn\u001b[39m\u001b[38;5;124m\"\u001b[39m, \u001b[38;5;124m\"\u001b[39m\u001b[38;5;124msalary\u001b[39m\u001b[38;5;124m\"\u001b[39m:\u001b[38;5;124m\"\u001b[39m\u001b[38;5;124m5000\u001b[39m\u001b[38;5;124m\"\u001b[39m}, {\u001b[38;5;124m\"\u001b[39m\u001b[38;5;124mname\u001b[39m\u001b[38;5;124m\"\u001b[39m:\u001b[38;5;124m\"\u001b[39m\u001b[38;5;124mPrakruthi\u001b[39m\u001b[38;5;124m\"\u001b[39m, \u001b[38;5;124m\"\u001b[39m\u001b[38;5;124msalary\u001b[39m\u001b[38;5;124m\"\u001b[39m:\u001b[38;5;124m\"\u001b[39m\u001b[38;5;124m1\u001b[39m\u001b[38;5;124m\"\u001b[39m}, {\u001b[38;5;124m\"\u001b[39m\u001b[38;5;124mname\u001b[39m\u001b[38;5;124m\"\u001b[39m:\u001b[38;5;124m\"\u001b[39m\u001b[38;5;124mManasa\u001b[39m\u001b[38;5;124m\"\u001b[39m,\u001b[38;5;124m\"\u001b[39m\u001b[38;5;124msalary\u001b[39m\u001b[38;5;124m\"\u001b[39m:\u001b[38;5;124m\"\u001b[39m\u001b[38;5;124m10\u001b[39m\u001b[38;5;124m\"\u001b[39m}]\n\u001b[1;32m----> 2\u001b[0m total_salary\u001b[38;5;241m=\u001b[39m\u001b[38;5;28msum\u001b[39m(emp[\u001b[38;5;124m\"\u001b[39m\u001b[38;5;124msalary\u001b[39m\u001b[38;5;124m\"\u001b[39m] \u001b[38;5;28;01mfor\u001b[39;00m emp \u001b[38;5;129;01min\u001b[39;00m employees)\n\u001b[0;32m      3\u001b[0m average_salary\u001b[38;5;241m=\u001b[39mtotal_salary\u001b[38;5;241m/\u001b[39m\u001b[38;5;28mlen\u001b[39m(employees)\n\u001b[0;32m      4\u001b[0m \u001b[38;5;28mprint\u001b[39m(\u001b[38;5;124m\"\u001b[39m\u001b[38;5;124mëmployees details\u001b[39m\u001b[38;5;124m\"\u001b[39m)\n",
      "\u001b[1;31mTypeError\u001b[0m: unsupported operand type(s) for +: 'int' and 'str'"
     ]
    }
   ],
   "source": [
    "employees=[{\"name\":\"john\", \"salary\":\"5000\"}, {\"name\":\"Prakruthi\", \"salary\":\"1\"}, {\"name\":\"Manasa\",\"salary\":\"10\"}]\n",
    "total_salary=sum(emp[\"salary\"] for emp in employees)\n",
    "average_salary=total_salary/len(employees)\n",
    "print(\"ëmployees details\")\n",
    "for emp in employees:\n",
    "    print(f\"name:{emp['name']}\")\n",
    "    print(f\"total salary : {total_salary} is total salary of all\")\n",
    "    print(f\"{average_salary} is average salary of all\")\n"
   ]
  },
  {
   "cell_type": "code",
   "execution_count": 8,
   "id": "d56136c6",
   "metadata": {},
   "outputs": [
    {
     "ename": "IndentationError",
     "evalue": "expected an indented block after function definition on line 1 (2332418113.py, line 2)",
     "output_type": "error",
     "traceback": [
      "\u001b[1;36m  Cell \u001b[1;32mIn[8], line 2\u001b[1;36m\u001b[0m\n\u001b[1;33m    a=10\u001b[0m\n\u001b[1;37m    ^\u001b[0m\n\u001b[1;31mIndentationError\u001b[0m\u001b[1;31m:\u001b[0m expected an indented block after function definition on line 1\n"
     ]
    }
   ],
   "source": [
    "def fibonacci(n):\n",
    "a=10\n",
    "b=0\n",
    "c=1\n",
    "next_number=num2\n",
    "count=1\n",
    "while count<=n:\n",
    "    print(next_number,end=\" \")\n",
    "    count+=1\n",
    "    num1,num2=num2,ne\n",
    "print()\n",
    "fibonacci(5)"
   ]
  },
  {
   "cell_type": "code",
   "execution_count": 11,
   "id": "957063dd",
   "metadata": {},
   "outputs": [
    {
     "name": "stdout",
     "output_type": "stream",
     "text": [
      "ëmployees details\n",
      "name:john\n",
      "total salary : 5011 is total salary of all\n",
      "1670.3333333333333 is average salary of all\n",
      "name:Prakruthi\n",
      "total salary : 5011 is total salary of all\n",
      "1670.3333333333333 is average salary of all\n",
      "name:Manasa\n",
      "total salary : 5011 is total salary of all\n",
      "1670.3333333333333 is average salary of all\n"
     ]
    }
   ],
   "source": [
    "employees=[{\"name\":\"john\",\"salary\":\"5000\"}, {\"name\":\"Prakruthi\",\"salary\":\"1\"}, {\"name\":\"Manasa\",\"salary\":\"10\"}]\n",
    "total_salary=sum(int(emp[\"salary\"]) for emp in employees)\n",
    "average_salary=total_salary/len(employees)\n",
    "print(\"ëmployees details\")\n",
    "for emp in employees:\n",
    "    print(f\"name:{emp['name']}\")\n",
    "    print(f\"total salary : {total_salary} is total salary of all\")\n",
    "    print(f\"{average_salary} is average salary of all\")\n"
   ]
  },
  {
   "cell_type": "code",
   "execution_count": 13,
   "id": "0941e6d8",
   "metadata": {},
   "outputs": [
    {
     "name": "stdout",
     "output_type": "stream",
     "text": [
      "the matrixsum is [[ 6  8]\n",
      " [10 12]] and matrixdot is [[19 22]\n",
      " [43 50]] and linalgorith is [[-3. -4.]\n",
      " [ 4.  5.]]\n"
     ]
    }
   ],
   "source": [
    "import numpy as np\n",
    "from scipy import linalg\n",
    "matrix1=np.array([[1,2],[3,4]])\n",
    "matrix2=np.array([[5,6],[7,8]])\n",
    "matrix_sum=matrix1+matrix2\n",
    "matrixdotproduct=np.dot(matrix1,matrix2)\n",
    "linalgorithm=linalg.solve(matrix1,matrix2)\n",
    "print(f\"the matrixsum is {matrix_sum} and matrixdot is {matrixdotproduct} and linalgorith is {linalgorithm}\")"
   ]
  },
  {
   "cell_type": "code",
   "execution_count": null,
   "id": "e09728af",
   "metadata": {},
   "outputs": [],
   "source": []
  }
 ],
 "metadata": {
  "kernelspec": {
   "display_name": "Python 3 (ipykernel)",
   "language": "python",
   "name": "python3"
  },
  "language_info": {
   "codemirror_mode": {
    "name": "ipython",
    "version": 3
   },
   "file_extension": ".py",
   "mimetype": "text/x-python",
   "name": "python",
   "nbconvert_exporter": "python",
   "pygments_lexer": "ipython3",
   "version": "3.11.5"
  }
 },
 "nbformat": 4,
 "nbformat_minor": 5
}
